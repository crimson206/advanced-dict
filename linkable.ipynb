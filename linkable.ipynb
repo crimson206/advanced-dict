{
 "cells": [
  {
   "cell_type": "code",
   "execution_count": 1,
   "metadata": {},
   "outputs": [],
   "source": [
    "from typing import *\n",
    "from crimson.intelli_type import IntelliType\n",
    "from inspect import getsource\n",
    "from script import Path\n",
    "import inspect\n",
    "\n",
    "from text_editor import * "
   ]
  },
  {
   "cell_type": "code",
   "execution_count": 2,
   "metadata": {},
   "outputs": [],
   "source": [
    "import yaml"
   ]
  },
  {
   "cell_type": "code",
   "execution_count": 3,
   "metadata": {},
   "outputs": [
    {
     "name": "stdout",
     "output_type": "stream",
     "text": [
      "pathMap:\n",
      "  ListItem:\n",
      "  - 1\n",
      "  - 2\n",
      "  - 3\n",
      "  file: File\n",
      "  path: Paht\n",
      "\n"
     ]
    }
   ],
   "source": [
    "json_object = {\"pathMap\" : {\n",
    "    \"path\": \"Paht\",\n",
    "    \"file\": \"File\",\n",
    "    \"ListItem\": [1, 2, 3]\n",
    "}}\n",
    "\n",
    "print(yaml.dump(json_object))"
   ]
  },
  {
   "cell_type": "code",
   "execution_count": 9,
   "metadata": {},
   "outputs": [],
   "source": [
    "class DocWithLink:\n",
    "    \"\"\"\n",
    "    It uses *path*<link/> and *file*<link/>\n",
    "    \n",
    "    ``` yaml\n",
    "    link_map:\n",
    "        path: Path\n",
    "        file: File\n",
    "\n",
    "    ```\n",
    "    \n",
    "    \"\"\""
   ]
  },
  {
   "cell_type": "code",
   "execution_count": 10,
   "metadata": {},
   "outputs": [
    {
     "name": "stdout",
     "output_type": "stream",
     "text": [
      "\n",
      "It uses *path*<link/> and *file*<link/>\n",
      "\n",
      "``` yaml\n",
      "link_map:\n",
      "    path: Path\n",
      "    file: File\n",
      "\n",
      "```\n",
      "\n",
      "\n"
     ]
    }
   ],
   "source": [
    "doc_with_link = remove_indent(DocWithLink.__doc__)\n",
    "\n",
    "print(doc_with_link)"
   ]
  },
  {
   "cell_type": "code",
   "execution_count": 15,
   "metadata": {},
   "outputs": [
    {
     "data": {
      "text/plain": [
       "'\\n    It is a path.\\n    '"
      ]
     },
     "execution_count": 15,
     "metadata": {},
     "output_type": "execute_result"
    }
   ],
   "source": [
    "import script\n",
    "\n",
    "\n",
    "script.__dict__[\"Path\"].__doc__"
   ]
  },
  {
   "cell_type": "code",
   "execution_count": 202,
   "metadata": {},
   "outputs": [],
   "source": [
    "from script import Path\n",
    "from pydantic import BaseModel, Field\n",
    "\n",
    "def get_location(obj):\n",
    "\n",
    "    file_path = inspect.getfile(obj)\n",
    "    \n",
    "    source_lines, start_line = inspect.getsourcelines(obj)\n",
    "    \n",
    "    end_line = start_line + len(source_lines) - 1\n",
    "    \n",
    "    location = {\n",
    "        \"file_path\": file_path,\n",
    "        \"start_line\": start_line,\n",
    "        \"end_line\": end_line\n",
    "    }\n",
    "\n",
    "    return location\n",
    "\n",
    "class Location(BaseModel):\n",
    "    file_path: str = Field(..., description=\"The file path of the location\")\n",
    "    start_line: int = Field(..., ge=1, description=\"The starting line number\")\n",
    "    end_line: int = Field(..., ge=1, description=\"The ending line number\")\n",
    "    optional: Optional[str] = Field(None, ge=1)\n"
   ]
  },
  {
   "cell_type": "code",
   "execution_count": 203,
   "metadata": {},
   "outputs": [
    {
     "data": {
      "text/plain": [
       "{'file_path': FieldInfo(annotation=str, required=True, description='The file path of the location'),\n",
       " 'start_line': FieldInfo(annotation=int, required=True, description='The starting line number', metadata=[Ge(ge=1)]),\n",
       " 'end_line': FieldInfo(annotation=int, required=True, description='The ending line number', metadata=[Ge(ge=1)]),\n",
       " 'optional': FieldInfo(annotation=Union[str, NoneType], required=False, default=None, metadata=[Ge(ge=1)])}"
      ]
     },
     "execution_count": 203,
     "metadata": {},
     "output_type": "execute_result"
    }
   ],
   "source": [
    "import pydantic\n",
    "\n",
    "location = Location(file_path=\"/path/to/file.py\", start_line=10, end_line=20)\n",
    "\n",
    "\n",
    "location.model_fields"
   ]
  },
  {
   "cell_type": "code",
   "execution_count": 145,
   "metadata": {},
   "outputs": [],
   "source": [
    "location.model_fields[\"optional\"].default"
   ]
  },
  {
   "cell_type": "code",
   "execution_count": 199,
   "metadata": {},
   "outputs": [],
   "source": [
    "from pydantic import *\n",
    "from pydantic_core import *\n",
    "\n",
    "class Empty:\n",
    "    pass\n",
    "\n",
    "class ArgProps(BaseModel):\n",
    "    arg_name: str\n",
    "    required: bool\n",
    "    description: str | None\n",
    "    default: Any | Empty\n",
    "    annotation: type | Any\n",
    "\n",
    "    model_config = ConfigDict(arbitrary_types_allowed=True)\n",
    "    \n",
    "class DataProps(BaseModel):\n",
    "    data_name: str\n",
    "    arg_props_list: List[ArgProps]"
   ]
  },
  {
   "cell_type": "code",
   "execution_count": 205,
   "metadata": {},
   "outputs": [],
   "source": [
    "def convert_default(field: pydantic.fields.FieldInfo) -> Any|Empty:\n",
    "    if hasattr(field, \"default\"):\n",
    "        if isinstance(field.default, PydanticUndefinedType):\n",
    "            return Empty\n",
    "        else:\n",
    "            field.default\n",
    "    else:\n",
    "        return Empty\n",
    "\n",
    "def get_arg_props(arg_name, field: pydantic.fields.FieldInfo) -> ArgProps:\n",
    "    arg_props = ArgProps(\n",
    "        arg_name=arg_name,\n",
    "        required=field.is_required(),\n",
    "        default=convert_default(field),\n",
    "        description=field.description,\n",
    "        annotation=field.annotation.__name__\n",
    "    )\n",
    "    return arg_props\n",
    "\n",
    "def get_arg_props_list(model_fields: Dict[str, pydantic.fields.FieldInfo]) -> List[ArgProps]:\n",
    "    arg_props_list = [get_arg_props(arg_name, field) for arg_name, field in model_fields.items()]\n",
    "    return arg_props_list"
   ]
  },
  {
   "cell_type": "code",
   "execution_count": 206,
   "metadata": {},
   "outputs": [
    {
     "data": {
      "text/plain": [
       "[ArgProps(arg_name='file_path', required=True, description='The file path of the location', default=<class '__main__.Empty'>, annotation='str'),\n",
       " ArgProps(arg_name='start_line', required=True, description='The starting line number', default=<class '__main__.Empty'>, annotation='int'),\n",
       " ArgProps(arg_name='end_line', required=True, description='The ending line number', default=<class '__main__.Empty'>, annotation='int'),\n",
       " ArgProps(arg_name='optional', required=False, description=None, default=None, annotation='Optional')]"
      ]
     },
     "execution_count": 206,
     "metadata": {},
     "output_type": "execute_result"
    }
   ],
   "source": [
    "arg_props_list = get_arg_props_list(location.model_fields)\n",
    "arg_props_list"
   ]
  },
  {
   "cell_type": "code",
   "execution_count": null,
   "metadata": {},
   "outputs": [],
   "source": []
  },
  {
   "cell_type": "code",
   "execution_count": 211,
   "metadata": {},
   "outputs": [],
   "source": [
    "def render_arg_props(arg_props: ArgProps) -> Dict[str, str]:\n",
    "    arg_props_templates = {\n",
    "        'annotate': '{arg_name}: {annotation}',\n",
    "        'self_assign': 'self._{arg_name} = {arg_name}',\n",
    "        'dict_assign': '\"{arg_name}\": {arg_name}',\n",
    "        'generate_property': '''\\\n",
    "@property\n",
    "def {arg_name}(self) -> {annotation}:\n",
    "    \"\"\"\n",
    "    {description}\n",
    "    \"\"\"\n",
    "    return self._{arg_name}\n",
    "''',\n",
    "        'generate_setter': '''\\\n",
    "@file_path.setter\n",
    "def {arg_name}(self, value: {annotation}) -> None:\n",
    "    self._{arg_name} = value\n",
    "    self._data[\"{arg_name}\"] = value\n",
    "''',\n",
    "        'generate_overload': '''\\\n",
    "@overload\n",
    "def __getitem__(self, key: Literal[\"{arg_name}\"]) -> {annotation}: ...\n",
    "'''\n",
    "    }\n",
    "\n",
    "    rendered = {}\n",
    "\n",
    "    for key, value in arg_props_templates.items():\n",
    "        rendered[key] = value.format(**arg_props.model_dump())\n",
    "    \n",
    "    return rendered"
   ]
  },
  {
   "cell_type": "code",
   "execution_count": 212,
   "metadata": {},
   "outputs": [
    {
     "data": {
      "text/plain": [
       "{'annotate': 'file_path: str',\n",
       " 'self_assign': 'self._file_path = file_path',\n",
       " 'dict_assign': '\"file_path\": file_path',\n",
       " 'generate_property': '@property\\ndef file_path(self) -> str:\\n    \"\"\"\\n    The file path of the location\\n    \"\"\"\\n    return self._file_path\\n',\n",
       " 'generate_setter': '@file_path.setter\\ndef file_path(self, value: str) -> None:\\n    self._file_path = value\\n    self._data[\"file_path\"] = value\\n',\n",
       " 'generate_overload': '@overload\\ndef __getitem__(self, key: Literal[\"file_path\"]) -> str: ...\\n'}"
      ]
     },
     "execution_count": 212,
     "metadata": {},
     "output_type": "execute_result"
    }
   ],
   "source": [
    "rendered = render_arg_props(arg_props_list[0])\n",
    "rendered"
   ]
  },
  {
   "cell_type": "markdown",
   "metadata": {},
   "source": [
    "``` python\n",
    "\n",
    "\n",
    "file_path: str\n",
    "\n",
    "self._file_path = file_path\n",
    "\n",
    "\"file_path\": file_path,\n",
    "\n",
    "\n",
    "@property\n",
    "def file_path(self) -> str:\n",
    "    \"\"\"\n",
    "    Get the file path.\n",
    "    \"\"\"\n",
    "    return self._file_path\n",
    "\n",
    "\n",
    "@file_path.setter\n",
    "def file_path(self, value: str) -> None:\n",
    "    \"\"\"\n",
    "    Set the file path.\n",
    "    \"\"\"\n",
    "    self._file_path = value\n",
    "    self._data[\"file_path\"] = value\n",
    "\n",
    "@overload\n",
    "def __getitem__(self, key: Literal[\"file_path\"]) -> str: ...\n",
    "\n",
    "Literal[\"file_path\", \"start_line\", \"end_line\"]\n",
    "\n",
    "```"
   ]
  },
  {
   "cell_type": "code",
   "execution_count": 187,
   "metadata": {},
   "outputs": [
    {
     "data": {
      "text/plain": [
       "5"
      ]
     },
     "execution_count": 187,
     "metadata": {},
     "output_type": "execute_result"
    }
   ],
   "source": [
    "from typing import TypedDict, Any\n",
    "\n",
    "class LocationData(TypedDict):\n",
    "    file_path: str\n",
    "    start_line: int\n",
    "    end_line: int\n",
    "\n",
    "class Location:\n",
    "    def __init__(self, *, file_path: str, start_line: int, end_line: int):\n",
    "        self._file_path = file_path\n",
    "        self._start_line = start_line\n",
    "        self._end_line = end_line\n",
    "        self._data: LocationData = {\n",
    "            \"file_path\": file_path,\n",
    "            \"start_line\": start_line,\n",
    "            \"end_line\": end_line\n",
    "        }\n",
    "\n",
    "\n",
    "    @property\n",
    "    def file_path(self) -> str:\n",
    "        \"\"\"\n",
    "        Get the file path.\n",
    "        \"\"\"\n",
    "        return self._file_path\n",
    "\n",
    "    @file_path.setter\n",
    "    def file_path(self, value: str) -> None:\n",
    "        \"\"\"\n",
    "        Set the file path.\n",
    "        \"\"\"\n",
    "        self._file_path = value\n",
    "        self._data[\"file_path\"] = value\n",
    "\n",
    "    @property\n",
    "    def start_line(self) -> int:\n",
    "        \"\"\"\n",
    "        Get the start line.\n",
    "        \"\"\"\n",
    "        return self._start_line\n",
    "\n",
    "    @start_line.setter\n",
    "    def start_line(self, value: int) -> None:\n",
    "        \"\"\"\n",
    "        Set the start line.\n",
    "        \"\"\"\n",
    "        self._start_line = value\n",
    "        self._data[\"start_line\"] = value\n",
    "\n",
    "    @property\n",
    "    def end_line(self) -> int:\n",
    "        \"\"\"\n",
    "        Get the end line.\n",
    "        \"\"\"\n",
    "        return self._end_line\n",
    "\n",
    "    @end_line.setter\n",
    "    def end_line(self, value: int) -> None:\n",
    "        \"\"\"\n",
    "        Set the end line.\n",
    "        \"\"\"\n",
    "        self._end_line = value\n",
    "        self._data[\"end_line\"] = value\n",
    "\n",
    "    @overload\n",
    "    def __getitem__(self, key: Literal[\"file_path\"]) -> str: ...\n",
    "\n",
    "    @overload\n",
    "    def __getitem__(self, key: Literal[\"start_line\"]) -> int: ...\n",
    "\n",
    "    @overload\n",
    "    def __getitem__(self, key: Literal[\"end_line\"]) -> int: ...\n",
    "    \n",
    "\n",
    "    def __getitem__(self, key: Literal[\"file_path\", \"start_line\", \"end_line\"]): # -> Union[str, int]:\n",
    "        return self._data[key]\n",
    "\n",
    "    def __setitem__(self, key: Literal[\"file_path\", \"start_line\", \"end_line\"], value) -> None:\n",
    "        if key in self._data:\n",
    "            setattr(self, key, value)\n",
    "        else:\n",
    "            raise KeyError(f\"'{key}' is not a valid attribute for Location\")\n",
    "\n",
    "    def __setitem__(self, key: str, value: Any) -> None:\n",
    "        if key in self._data:\n",
    "            setattr(self, key, value)\n",
    "        else:\n",
    "            raise KeyError(f\"'{key}' is not a valid attribute for Location\")\n",
    "\n",
    "    def __repr__(self) -> str:\n",
    "        return f\"Location({self._data})\"\n",
    "\n",
    "    def dict(self) -> LocationData:\n",
    "        return self._data.copy()\n",
    "\n",
    "# 사용 예시\n",
    "location = Location(file_path=\"/path/to/file.py\", start_line=10, end_line=20)\n",
    "\n",
    "\n",
    "location.end_line = 5\n",
    "\n",
    "location[\"end_line\"]"
   ]
  },
  {
   "cell_type": "code",
   "execution_count": null,
   "metadata": {},
   "outputs": [],
   "source": []
  },
  {
   "cell_type": "code",
   "execution_count": 91,
   "metadata": {},
   "outputs": [
    {
     "data": {
      "text/plain": [
       "{}"
      ]
     },
     "execution_count": 91,
     "metadata": {},
     "output_type": "execute_result"
    }
   ],
   "source": [
    "class LocationData(TypedDict):\n",
    "    file_path: str = \"hi\"\n",
    "    start_line: int\n",
    "    \n",
    "location = LocationData()\n",
    "location"
   ]
  },
  {
   "cell_type": "code",
   "execution_count": 89,
   "metadata": {},
   "outputs": [],
   "source": [
    "## Shorter\n",
    "\n",
    "from typing import TypedDict, Any\n",
    "\n",
    "class RequiredHolder:\n",
    "    pass\n",
    "\n",
    "class LocationData(TypedDict):\n",
    "    file_path: str = \"hi\"\n",
    "    start_line: int\n",
    "\n",
    "class Location:\n",
    "    def __init__(self, file_path: str = \"some_path\", start_line: int = RequiredHolder):\n",
    "        self._file_path: str = file_path\n",
    "        self._start_line: int = start_line\n",
    "        self._data: LocationData = {\n",
    "            \"file_path\": file_path,\n",
    "            \"start_line\": start_line,\n",
    "        }\n",
    "\n",
    "    @property\n",
    "    def file_path(self) -> str:\n",
    "        \"\"\"\n",
    "        Get the file path.\n",
    "        \"\"\"\n",
    "        return self._file_path\n",
    "\n",
    "    @property\n",
    "    def start_line(self) -> int:\n",
    "        \"\"\"\n",
    "        Get the start line.\n",
    "        \"\"\"\n",
    "        return self._start_line\n",
    "\n",
    "    @file_path.setter\n",
    "    def file_path(self, value: str) -> None:\n",
    "        self._file_path = value\n",
    "        self._data[\"file_path\"] = value\n",
    "\n",
    "    @start_line.setter\n",
    "    def start_line(self, value: int) -> None:\n",
    "        self._start_line = value\n",
    "        self._data[\"start_line\"] = value\n",
    "\n",
    "    @overload\n",
    "    def __getitem__(self, key: Literal[\"file_path\"]) -> str: ...\n",
    "\n",
    "    @overload\n",
    "    def __getitem__(self, key: Literal[\"start_line\"]) -> int: ...\n",
    "\n",
    "    def __getitem__(self, key: Literal[\"file_path\", \"start_line\"]) -> Union[str, int]:\n",
    "        return self._data[key]\n",
    "\n",
    "    def __setitem__(self, key: Literal[\"file_path\", \"start_line\"], value: Union[str, int]) -> None:\n",
    "        if key in self._data:\n",
    "            setattr(self, key, value)\n",
    "        else:\n",
    "            raise KeyError(f\"'{key}' is not a valid attribute for Location\")\n",
    "\n",
    "    def __repr__(self) -> str:\n",
    "        return f\"Location({self._data})\"\n",
    "\n",
    "    def dict(self) -> LocationData:\n",
    "        return self._data.copy()\n"
   ]
  },
  {
   "cell_type": "code",
   "execution_count": 90,
   "metadata": {},
   "outputs": [
    {
     "data": {
      "text/plain": [
       "__main__.RequiredHolder"
      ]
     },
     "execution_count": 90,
     "metadata": {},
     "output_type": "execute_result"
    }
   ],
   "source": [
    "location = Location(file_path=\"/path/to/file.py\")\n",
    "\n",
    "location[\"start_line\"]"
   ]
  },
  {
   "cell_type": "code",
   "execution_count": 76,
   "metadata": {},
   "outputs": [
    {
     "data": {
      "text/plain": [
       "'/path/to/file.py'"
      ]
     },
     "execution_count": 76,
     "metadata": {},
     "output_type": "execute_result"
    }
   ],
   "source": [
    "location['file_path']"
   ]
  },
  {
   "cell_type": "code",
   "execution_count": 77,
   "metadata": {},
   "outputs": [],
   "source": [
    "location['file_path'] = \"new_path\""
   ]
  },
  {
   "cell_type": "code",
   "execution_count": 79,
   "metadata": {},
   "outputs": [
    {
     "data": {
      "text/plain": [
       "('new_path', 'new_path')"
      ]
     },
     "execution_count": 79,
     "metadata": {},
     "output_type": "execute_result"
    }
   ],
   "source": [
    "location['file_path'], location.file_path"
   ]
  },
  {
   "cell_type": "code",
   "execution_count": null,
   "metadata": {},
   "outputs": [],
   "source": []
  },
  {
   "cell_type": "code",
   "execution_count": null,
   "metadata": {},
   "outputs": [],
   "source": []
  },
  {
   "cell_type": "code",
   "execution_count": 57,
   "metadata": {},
   "outputs": [],
   "source": [
    "class LocationData(TypedDict):\n",
    "    file_path: str\n",
    "    start_line: int\n",
    "    end_line: int\n",
    "\n",
    "\n",
    "class Location:\n",
    "    _file_path: str\n",
    "    start_line: int\n",
    "    end_line: int\n",
    "\n",
    "    def __init__(self, file_path: str, start_line: int, end_line: int):\n",
    "        self.file_path = file_path\n",
    "        self.start_line = start_line\n",
    "        self.end_line = end_line\n",
    "        self._data: LocationData = {\n",
    "            \"file_path\": file_path,\n",
    "            \"start_line\": start_line,\n",
    "            \"end_line\": end_line\n",
    "        }\n",
    "\n",
    "    @property\n",
    "    def file_path(self):\n",
    "        \"\"\"\n",
    "        With Docstring.\n",
    "        \"\"\"\n",
    "        return self._file_path\n",
    "\n",
    "    def __getitem__(self, key: Literal[\"file_path\", \"start_line\", \"end_line\"]) -> Any:\n",
    "        return self._data[key]\n",
    "\n",
    "    def __setitem__(self, key: str, value: Any) -> None:\n",
    "        setattr(self, key, value)\n",
    "\n",
    "    def __repr__(self) -> str:\n",
    "        return f\"Location({self._data})\"\n",
    "\n",
    "    def dict(self) -> LocationData:\n",
    "        return self._data\n",
    "\n",
    "\n",
    "location = Location(file_path=\"/path/to/file.py\", start_line=10, end_line=20)\n",
    "\n"
   ]
  },
  {
   "cell_type": "code",
   "execution_count": 62,
   "metadata": {},
   "outputs": [],
   "source": [
    "from pydantic import BaseModel, Field\n",
    "from typing import Dict, Any\n",
    "\n",
    "class Location_(BaseModel):\n",
    "    file_path: str = Field(..., description=\"The file path of the location\")\n",
    "    start_line: int = Field(..., ge=1, description=\"The starting line number\")\n",
    "    end_line: int = Field(..., ge=1, description=\"The ending line number\")"
   ]
  },
  {
   "cell_type": "code",
   "execution_count": 63,
   "metadata": {},
   "outputs": [],
   "source": [
    "dict_assign_template = r\"\"\"\n",
    "\"\\\\[arg_name\\\\]\" = \\\\[arg_name\\\\],\n",
    "\"\"\"[2:]"
   ]
  },
  {
   "cell_type": "code",
   "execution_count": null,
   "metadata": {},
   "outputs": [],
   "source": [
    "dict_assign_t = r\"\"\"\n",
    "\"\\\\[arg_name\\\\]\" = \\\\[arg_name\\\\],\n",
    "\"\"\"[2:]\n",
    "\n",
    "arg_and_type_t = r\"\"\"\n",
    "\\\\[arg_name\\\\] = \\\\[type\\\\],\n",
    "\"\"\"[2:]\n",
    "\n",
    "\n",
    "template = r\"\"\"\n",
    "class \\[data_name\\]Data(TypedDict):\n",
    "    \\{arg_and_type_formatted\\}\n",
    "\n",
    "\n",
    "class Location:\n",
    "    \\{arg_and_type_formatted\\}\n",
    "\n",
    "    def __init__(self,\n",
    "        \\{arg_and_type_formatted\\}\n",
    "    ):\n",
    "        \\{arg_assign_formatted\\}\n",
    "\n",
    "        self._data: \\[data_name\\]Data = {\n",
    "            \\{dict_assign_formatted\\}\n",
    "        }\n",
    "\n",
    "    def __getitem__(self, key: str) -> Any:\n",
    "        return self._data[key]\n",
    "\n",
    "    def __setitem__(self, key: str, value: Any) -> None:\n",
    "        setattr(self, key, value)\n",
    "\n",
    "    def __repr__(self) -> str:\n",
    "        return f\"\\[data_name\\]({self._data})\"\n",
    "\n",
    "    def dict(self) -> \\[data_name\\]Data:\n",
    "        return self._data\n",
    "\"\"\""
   ]
  },
  {
   "cell_type": "code",
   "execution_count": null,
   "metadata": {},
   "outputs": [],
   "source": []
  },
  {
   "cell_type": "code",
   "execution_count": null,
   "metadata": {},
   "outputs": [],
   "source": []
  },
  {
   "cell_type": "code",
   "execution_count": 61,
   "metadata": {},
   "outputs": [
    {
     "data": {
      "text/plain": [
       "Location({'file_path': '/path/to/file.py', 'start_line': 10, 'end_line': 20})"
      ]
     },
     "execution_count": 61,
     "metadata": {},
     "output_type": "execute_result"
    }
   ],
   "source": [
    "location = Location(file_path=\"/path/to/file.py\", start_line=10, end_line=20)\n",
    "\n",
    "location"
   ]
  },
  {
   "cell_type": "code",
   "execution_count": 56,
   "metadata": {},
   "outputs": [],
   "source": [
    "from typing import Dict, Any\n",
    "from typing_extensions import TypedDict\n",
    "\n",
    "\n",
    "\n"
   ]
  },
  {
   "cell_type": "code",
   "execution_count": null,
   "metadata": {},
   "outputs": [],
   "source": [
    "\n",
    "\n"
   ]
  },
  {
   "cell_type": "code",
   "execution_count": 22,
   "metadata": {},
   "outputs": [
    {
     "name": "stdout",
     "output_type": "stream",
     "text": [
      "Classes:\n",
      "  MyClass (lines 2-3)\n",
      "  MyClass (lines 5-10)\n",
      "\n",
      "Functions:\n",
      "  __init__ (lines 6-7)\n",
      "  my_method (lines 9-10)\n",
      "  my_function (lines 12-13)\n"
     ]
    }
   ],
   "source": [
    "import ast\n",
    "\n",
    "class CodeAnalyzer(ast.NodeVisitor):\n",
    "    def __init__(self):\n",
    "        self.classes = []\n",
    "        self.functions = []\n",
    "\n",
    "    def visit_ClassDef(self, node):\n",
    "        self.classes.append({\n",
    "            'name': node.name,\n",
    "            'lineno': node.lineno,\n",
    "            'end_lineno': node.end_lineno,\n",
    "            'node': node\n",
    "        })\n",
    "        self.generic_visit(node)\n",
    "\n",
    "    def visit_FunctionDef(self, node):\n",
    "        self.functions.append({\n",
    "            'name': node.name,\n",
    "            'lineno': node.lineno,\n",
    "            'end_lineno': node.end_lineno,\n",
    "            'node': node\n",
    "        })\n",
    "        self.generic_visit(node)\n",
    "\n",
    "def analyze_code(code):\n",
    "    tree = ast.parse(code)\n",
    "    analyzer = CodeAnalyzer()\n",
    "    analyzer.visit(tree)\n",
    "    return analyzer.classes, analyzer.functions\n",
    "\n",
    "# 예제 코드\n",
    "sample_code = \"\"\"\n",
    "class MyClass:\n",
    "    pass\n",
    "\n",
    "class MyClass:\n",
    "    def __init__(self):\n",
    "        pass\n",
    "\n",
    "    def my_method(self):\n",
    "        print(\"Hello\")\n",
    "\n",
    "def my_function():\n",
    "    return \"World\"\n",
    "\n",
    "another_function = lambda x: x * 2\n",
    "\"\"\"\n",
    "\n",
    "classes, functions = analyze_code(sample_code)\n",
    "\n",
    "print(\"Classes:\")\n",
    "for cls in classes:\n",
    "    print(f\"  {cls['name']} (lines {cls['lineno']}-{cls['end_lineno']})\")\n",
    "\n",
    "print(\"\\nFunctions:\")\n",
    "for func in functions:\n",
    "    print(f\"  {func['name']} (lines {func['lineno']}-{func['end_lineno']})\")\n",
    "\n",
    "# 출력:\n",
    "# Classes:\n",
    "#   MyClass (lines 2-7)\n",
    "#\n",
    "# Functions:\n",
    "#   __init__ (lines 3-4)\n",
    "#   my_method (lines 6-7)\n",
    "#   my_function (lines 9-10)"
   ]
  },
  {
   "cell_type": "code",
   "execution_count": 39,
   "metadata": {},
   "outputs": [],
   "source": [
    "import importlib.util\n",
    "import sys\n",
    "\n",
    "def import_module_from_path(absolute_path):\n",
    "    module_name = absolute_path.split(\"/\")[-1].split(\".\")[0]  # 파일 이름에서 확장자를 제외한 부분을 모듈 이름으로 사용\n",
    "    spec = importlib.util.spec_from_file_location(module_name, absolute_path)\n",
    "    module = importlib.util.module_from_spec(spec)\n",
    "    sys.modules[module_name] = module\n",
    "    spec.loader.exec_module(module)\n",
    "    return module\n",
    "\n",
    "my_module = import_module_from_path(location['file_path'])"
   ]
  },
  {
   "cell_type": "code",
   "execution_count": 42,
   "metadata": {},
   "outputs": [
    {
     "data": {
      "text/plain": [
       "script.Path"
      ]
     },
     "execution_count": 42,
     "metadata": {},
     "output_type": "execute_result"
    }
   ],
   "source": [
    "my_module.__dict__['Path']"
   ]
  },
  {
   "cell_type": "code",
   "execution_count": 46,
   "metadata": {},
   "outputs": [
    {
     "data": {
      "text/plain": [
       "{'file_path': '/home/crimson/Projects/manager/crimson/folder-syncer/folder-sync-dev/linkable_types/script.py',\n",
       " 'start_line': 4,\n",
       " 'end_line': 7}"
      ]
     },
     "execution_count": 46,
     "metadata": {},
     "output_type": "execute_result"
    }
   ],
   "source": [
    "location"
   ]
  },
  {
   "cell_type": "code",
   "execution_count": null,
   "metadata": {},
   "outputs": [],
   "source": [
    "def get_annotation(location):\n",
    "    module = import_module_from_path(location['file_path'])"
   ]
  },
  {
   "cell_type": "code",
   "execution_count": 43,
   "metadata": {},
   "outputs": [
    {
     "data": {
      "text/plain": [
       "'from typing import SupportsIndex\\n\\n\\nclass Path(str):\\n    \"\"\"\\n    It is a path.\\n    \"\"\"\\n\\n\\nclass File(str):\\n    \"\"\"\\n    This is file.\\n    \"\"\"\\n\\n\\nclass ClassWithLink:\\n    \"\"\"\\n    A docs with link.\\n\\n        [@path]{Path}\\n\\n    {path Path_}\\n    \"\"\"\\n\\n    def function(path: Path) -> Path:\\n        return path\\n'"
      ]
     },
     "execution_count": 43,
     "metadata": {},
     "output_type": "execute_result"
    }
   ],
   "source": [
    "inspect.getsource(my_module)"
   ]
  },
  {
   "cell_type": "code",
   "execution_count": null,
   "metadata": {},
   "outputs": [],
   "source": []
  },
  {
   "cell_type": "code",
   "execution_count": null,
   "metadata": {},
   "outputs": [],
   "source": []
  },
  {
   "cell_type": "code",
   "execution_count": null,
   "metadata": {},
   "outputs": [],
   "source": []
  },
  {
   "cell_type": "code",
   "execution_count": null,
   "metadata": {},
   "outputs": [],
   "source": [
    "def get_location_with_text(file, object_name):\n",
    "    return object_name"
   ]
  },
  {
   "cell_type": "code",
   "execution_count": 17,
   "metadata": {},
   "outputs": [
    {
     "data": {
      "text/plain": [
       "'/home/crimson/Projects/manager/crimson/folder-syncer/folder-sync-dev/linkable_types/script.py'"
      ]
     },
     "execution_count": 17,
     "metadata": {},
     "output_type": "execute_result"
    }
   ],
   "source": [
    "inspect.getfile(Path)"
   ]
  },
  {
   "cell_type": "code",
   "execution_count": 12,
   "metadata": {},
   "outputs": [
    {
     "data": {
      "text/plain": [
       "{'link_map': {'path': 'Path', 'file': 'File'}}"
      ]
     },
     "execution_count": 12,
     "metadata": {},
     "output_type": "execute_result"
    }
   ],
   "source": [
    "link_map = extract_yaml_blocks(doc_with_link)[0]\n",
    "\n",
    "link_map"
   ]
  },
  {
   "cell_type": "code",
   "execution_count": null,
   "metadata": {},
   "outputs": [],
   "source": []
  },
  {
   "cell_type": "code",
   "execution_count": 7,
   "metadata": {},
   "outputs": [
    {
     "data": {
      "text/plain": [
       "'class Path(str):\\n    \"\"\"\\n    It is a path.\\n    \"\"\"\\n'"
      ]
     },
     "execution_count": 7,
     "metadata": {},
     "output_type": "execute_result"
    }
   ],
   "source": [
    "link_map"
   ]
  },
  {
   "cell_type": "code",
   "execution_count": null,
   "metadata": {},
   "outputs": [],
   "source": [
    "\n"
   ]
  },
  {
   "cell_type": "code",
   "execution_count": 8,
   "metadata": {},
   "outputs": [],
   "source": [
    "class IntelliType2:\n",
    "    pass"
   ]
  },
  {
   "cell_type": "code",
   "execution_count": null,
   "metadata": {},
   "outputs": [],
   "source": []
  }
 ],
 "metadata": {
  "kernelspec": {
   "display_name": "folder-sync",
   "language": "python",
   "name": "python3"
  },
  "language_info": {
   "codemirror_mode": {
    "name": "ipython",
    "version": 3
   },
   "file_extension": ".py",
   "mimetype": "text/x-python",
   "name": "python",
   "nbconvert_exporter": "python",
   "pygments_lexer": "ipython3",
   "version": "3.11.9"
  }
 },
 "nbformat": 4,
 "nbformat_minor": 2
}
