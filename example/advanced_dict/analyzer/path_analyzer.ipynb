{
 "cells": [
  {
   "cell_type": "markdown",
   "metadata": {},
   "source": [
    "## Extra Import"
   ]
  },
  {
   "cell_type": "code",
   "execution_count": 1,
   "metadata": {},
   "outputs": [],
   "source": [
    "import sys\n",
    "import json\n",
    "\n",
    "# Add example_tools path\n",
    "sys.path.append('../..')\n",
    "\n",
    "from example_tools.example_data import dict_list"
   ]
  },
  {
   "cell_type": "markdown",
   "metadata": {},
   "source": [
    "## Main Functions"
   ]
  },
  {
   "cell_type": "code",
   "execution_count": 2,
   "metadata": {},
   "outputs": [],
   "source": [
    "from crimson.advanced_dict.analyzer.path_analyzer import (\n",
    "    find_paths_in_dict,\n",
    "    find_paths_in_dict_list,\n",
    ")"
   ]
  },
  {
   "cell_type": "markdown",
   "metadata": {},
   "source": [
    "---\n",
    "I initiated this module when I deal with ast node data.\\\n",
    "Some examples are below."
   ]
  },
  {
   "cell_type": "code",
   "execution_count": 3,
   "metadata": {},
   "outputs": [
    {
     "name": "stdout",
     "output_type": "stream",
     "text": [
      "[\n",
      "  {\n",
      "    \"node\": {\n",
      "      \"lineno\": 5\n",
      "    },\n",
      "    \"position\": {\n",
      "      \"lineno\": 5,\n",
      "      \"end_lineno\": 6,\n",
      "      \"col_offset\": 0,\n",
      "      \"end_col_offset\": 15\n",
      "    }\n",
      "  },\n",
      "  {\n",
      "    \"node\": {\n",
      "      \"lineno\": \"9\"\n",
      "    },\n",
      "    \"position\": {\n",
      "      \"lineno\": 9,\n",
      "      \"end_lineno\": 10,\n",
      "      \"col_offset\": 0,\n",
      "      \"end_col_offset\": 41\n",
      "    }\n",
      "  },\n",
      "  {\n",
      "    \"node\": {\n",
      "      \"lineno\": 25\n",
      "    },\n",
      "    \"position\": {\n",
      "      \"lineno\": 25,\n",
      "      \"end_lineno\": 26,\n",
      "      \"col_offset\": 4,\n",
      "      \"end_col_offset\": 12\n",
      "    }\n",
      "  }\n",
      "]\n"
     ]
    }
   ],
   "source": [
    "node_data_string = json.dumps(dict_list.ast_node_with_position, indent=2)\n",
    "print(node_data_string)"
   ]
  },
  {
   "cell_type": "code",
   "execution_count": 4,
   "metadata": {},
   "outputs": [
    {
     "data": {
      "text/plain": [
       "{'node',\n",
       " 'node.lineno',\n",
       " 'node.lineno.denominator',\n",
       " 'node.lineno.imag',\n",
       " 'node.lineno.numerator',\n",
       " 'node.lineno.real',\n",
       " 'position',\n",
       " 'position.col_offset',\n",
       " 'position.col_offset.denominator',\n",
       " 'position.col_offset.imag',\n",
       " 'position.col_offset.numerator',\n",
       " 'position.col_offset.real',\n",
       " 'position.end_col_offset',\n",
       " 'position.end_col_offset.denominator',\n",
       " 'position.end_col_offset.imag',\n",
       " 'position.end_col_offset.numerator',\n",
       " 'position.end_col_offset.real',\n",
       " 'position.end_lineno',\n",
       " 'position.end_lineno.denominator',\n",
       " 'position.end_lineno.imag',\n",
       " 'position.end_lineno.numerator',\n",
       " 'position.end_lineno.real',\n",
       " 'position.lineno',\n",
       " 'position.lineno.denominator',\n",
       " 'position.lineno.imag',\n",
       " 'position.lineno.numerator',\n",
       " 'position.lineno.real'}"
      ]
     },
     "execution_count": 4,
     "metadata": {},
     "output_type": "execute_result"
    }
   ],
   "source": [
    "node_dict_list = dict_list.ast_node_with_position\n",
    "\n",
    "paths = find_paths_in_dict_list(node_dict_list, max_level=2)\n",
    "paths"
   ]
  },
  {
   "cell_type": "code",
   "execution_count": 5,
   "metadata": {},
   "outputs": [
    {
     "data": {
      "text/plain": [
       "{'node',\n",
       " 'node.lineno',\n",
       " 'node.lineno.denominator',\n",
       " 'node.lineno.imag',\n",
       " 'node.lineno.numerator',\n",
       " 'node.lineno.real',\n",
       " 'position',\n",
       " 'position.col_offset',\n",
       " 'position.col_offset.denominator',\n",
       " 'position.col_offset.imag',\n",
       " 'position.col_offset.numerator',\n",
       " 'position.col_offset.real',\n",
       " 'position.end_col_offset',\n",
       " 'position.end_col_offset.denominator',\n",
       " 'position.end_col_offset.imag',\n",
       " 'position.end_col_offset.numerator',\n",
       " 'position.end_col_offset.real',\n",
       " 'position.end_lineno',\n",
       " 'position.end_lineno.denominator',\n",
       " 'position.end_lineno.imag',\n",
       " 'position.end_lineno.numerator',\n",
       " 'position.end_lineno.real',\n",
       " 'position.lineno',\n",
       " 'position.lineno.denominator',\n",
       " 'position.lineno.imag',\n",
       " 'position.lineno.numerator',\n",
       " 'position.lineno.real'}"
      ]
     },
     "execution_count": 5,
     "metadata": {},
     "output_type": "execute_result"
    }
   ],
   "source": [
    "single_node_dict = node_dict_list[0]\n",
    "\n",
    "paths = find_paths_in_dict(single_node_dict, max_level=2)\n",
    "paths"
   ]
  },
  {
   "cell_type": "markdown",
   "metadata": {},
   "source": [
    "---\n",
    "complex_dict_list includes different types including custom classes."
   ]
  },
  {
   "cell_type": "code",
   "execution_count": 6,
   "metadata": {},
   "outputs": [
    {
     "data": {
      "text/plain": [
       "{'id',\n",
       " 'id.denominator',\n",
       " 'id.denominator.denominator',\n",
       " 'id.denominator.imag',\n",
       " 'id.denominator.numerator',\n",
       " 'id.denominator.real',\n",
       " 'id.imag',\n",
       " 'id.imag.denominator',\n",
       " 'id.imag.imag',\n",
       " 'id.imag.numerator',\n",
       " 'id.imag.real',\n",
       " 'id.numerator',\n",
       " 'id.numerator.denominator',\n",
       " 'id.numerator.imag',\n",
       " 'id.numerator.numerator',\n",
       " 'id.numerator.real',\n",
       " 'id.real',\n",
       " 'id.real.denominator',\n",
       " 'id.real.imag',\n",
       " 'id.real.numerator',\n",
       " 'id.real.real',\n",
       " 'metadata',\n",
       " 'metadata.denominator',\n",
       " 'metadata.denominator.denominator',\n",
       " 'metadata.denominator.imag',\n",
       " 'metadata.denominator.numerator',\n",
       " 'metadata.denominator.real',\n",
       " 'metadata.imag',\n",
       " 'metadata.imag.denominator',\n",
       " 'metadata.imag.imag',\n",
       " 'metadata.imag.numerator',\n",
       " 'metadata.imag.real',\n",
       " 'metadata.key',\n",
       " 'metadata.numerator',\n",
       " 'metadata.numerator.denominator',\n",
       " 'metadata.numerator.imag',\n",
       " 'metadata.numerator.numerator',\n",
       " 'metadata.numerator.real',\n",
       " 'metadata.real',\n",
       " 'metadata.real.denominator',\n",
       " 'metadata.real.imag',\n",
       " 'metadata.real.numerator',\n",
       " 'metadata.real.real',\n",
       " 'metadata.value',\n",
       " 'node',\n",
       " 'node.name',\n",
       " 'node.name.value',\n",
       " 'node.type',\n",
       " 'node.type.denominator',\n",
       " 'node.type.imag',\n",
       " 'node.type.numerator',\n",
       " 'node.type.real',\n",
       " 'node.type.value',\n",
       " 'node.value',\n",
       " 'node.value.denominator',\n",
       " 'node.value.imag',\n",
       " 'node.value.numerator',\n",
       " 'node.value.real',\n",
       " 'node.value.value'}"
      ]
     },
     "execution_count": 6,
     "metadata": {},
     "output_type": "execute_result"
    }
   ],
   "source": [
    "complex_dict_list = dict_list.complex_data\n",
    "\n",
    "paths = find_paths_in_dict_list(complex_dict_list, max_level=2)\n",
    "paths"
   ]
  },
  {
   "cell_type": "markdown",
   "metadata": {},
   "source": [
    "## Minor Functions"
   ]
  },
  {
   "cell_type": "code",
   "execution_count": 7,
   "metadata": {},
   "outputs": [],
   "source": [
    "from crimson.advanced_dict.analyzer.path_analyzer import (\n",
    "    get_object_attributes,\n",
    "    explore_item,\n",
    ")"
   ]
  }
 ],
 "metadata": {
  "kernelspec": {
   "display_name": "advanced-dict",
   "language": "python",
   "name": "python3"
  },
  "language_info": {
   "codemirror_mode": {
    "name": "ipython",
    "version": 3
   },
   "file_extension": ".py",
   "mimetype": "text/x-python",
   "name": "python",
   "nbconvert_exporter": "python",
   "pygments_lexer": "ipython3",
   "version": "3.12.4"
  }
 },
 "nbformat": 4,
 "nbformat_minor": 2
}
