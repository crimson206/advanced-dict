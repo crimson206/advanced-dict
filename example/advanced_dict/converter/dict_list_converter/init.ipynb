{
 "cells": [
  {
   "cell_type": "markdown",
   "metadata": {},
   "source": [
    "## Extra Import"
   ]
  },
  {
   "cell_type": "code",
   "execution_count": 1,
   "metadata": {},
   "outputs": [],
   "source": [
    "import sys\n",
    "from typing import *\n",
    "\n",
    "# Add example_tools path\n",
    "sys.path.append('../../..')\n",
    "\n",
    "from example_tools.example_data import dict_list\n",
    "from example_tools.example_data.dict_list import AstNodeMock, NodeWithInfo, Position, Custom"
   ]
  },
  {
   "cell_type": "markdown",
   "metadata": {},
   "source": [
    "## Main Functions"
   ]
  },
  {
   "cell_type": "code",
   "execution_count": 2,
   "metadata": {},
   "outputs": [],
   "source": [
    "from crimson.advanced_dict.converter.dict_list_converter import (\n",
    "    group_by_key_path,\n",
    "    group_single_items_by_key_path,\n",
    "    analyze_path_types\n",
    ")\n"
   ]
  },
  {
   "cell_type": "markdown",
   "metadata": {},
   "source": [
    "---\n",
    "It is common to create the `List[Dict[str, Any]]` type data.\\\n",
    "The goal of this module is to convert them into `searchable dict-type data`.\\\n",
    "The key of the new data will be the value of a path of the original data."
   ]
  },
  {
   "cell_type": "markdown",
   "metadata": {},
   "source": [
    "---\n",
    "The function `group_single_items_by_key_path` returns\\\n",
    "`Dict[K, Dict[str, Any]]` type data, where `K` is the type, that the input path's value has.\n",
    "\n",
    "All the values, the path has, must be unique."
   ]
  },
  {
   "cell_type": "code",
   "execution_count": 3,
   "metadata": {},
   "outputs": [],
   "source": [
    "ast_node_dict_list: List[NodeWithInfo] = dict_list.ast_node_with_position"
   ]
  },
  {
   "cell_type": "code",
   "execution_count": 4,
   "metadata": {},
   "outputs": [
    {
     "data": {
      "text/plain": [
       "{5: {'node': {'lineno': 5},\n",
       "  'position': {'lineno': 5,\n",
       "   'end_lineno': 6,\n",
       "   'col_offset': 0,\n",
       "   'end_col_offset': 15}},\n",
       " 25: {'node': {'lineno': 25},\n",
       "  'position': {'lineno': 25,\n",
       "   'end_lineno': 26,\n",
       "   'col_offset': 4,\n",
       "   'end_col_offset': 12}}}"
      ]
     },
     "execution_count": 4,
     "metadata": {},
     "output_type": "execute_result"
    }
   ],
   "source": [
    "new_data: Dict[int, NodeWithInfo] = group_single_items_by_key_path(ast_node_dict_list, \"node.lineno\", key_type=Type[int])\n",
    "new_data"
   ]
  },
  {
   "cell_type": "markdown",
   "metadata": {},
   "source": [
    "---\n",
    "The input `key_type` plays an important rule.\\\n",
    "It can be considered as a filter.\\\n",
    "\n",
    "`\"node.lineno\"` path is supposed to have only integer, therefore, if we pass `key_type=Type[str]`, we won't get any data theoretically."
   ]
  },
  {
   "cell_type": "code",
   "execution_count": 5,
   "metadata": {},
   "outputs": [
    {
     "data": {
      "text/plain": [
       "{'9': {'node': {'lineno': '9'},\n",
       "  'position': {'lineno': 9,\n",
       "   'end_lineno': 10,\n",
       "   'col_offset': 0,\n",
       "   'end_col_offset': 41}}}"
      ]
     },
     "execution_count": 5,
     "metadata": {},
     "output_type": "execute_result"
    }
   ],
   "source": [
    "maybe_empty_data: Dict[int, NodeWithInfo] = group_single_items_by_key_path(ast_node_dict_list, \"node.lineno\", key_type=Type[str])\n",
    "maybe_empty_data"
   ]
  },
  {
   "cell_type": "markdown",
   "metadata": {},
   "source": [
    "---\n",
    "The integer written in `str` passed the filter.\\\n",
    "It looks critical that it was filtered out when we used `Type[int]`.\\\n",
    "\n",
    "How don't we miss any data?"
   ]
  },
  {
   "cell_type": "code",
   "execution_count": 6,
   "metadata": {},
   "outputs": [],
   "source": [
    "all_types_the_path_has = analyze_path_types(data=ast_node_dict_list, key_path=\"node.lineno\")\n"
   ]
  },
  {
   "cell_type": "markdown",
   "metadata": {},
   "source": [
    "---\n",
    "It has `{int, str}` types.\\\n",
    "We can use `Union[int, str]` to cover both.\\\n",
    "We finally get all the data."
   ]
  },
  {
   "cell_type": "code",
   "execution_count": 7,
   "metadata": {},
   "outputs": [
    {
     "data": {
      "text/plain": [
       "{5: {'node': {'lineno': 5},\n",
       "  'position': {'lineno': 5,\n",
       "   'end_lineno': 6,\n",
       "   'col_offset': 0,\n",
       "   'end_col_offset': 15}},\n",
       " '9': {'node': {'lineno': '9'},\n",
       "  'position': {'lineno': 9,\n",
       "   'end_lineno': 10,\n",
       "   'col_offset': 0,\n",
       "   'end_col_offset': 41}},\n",
       " 25: {'node': {'lineno': 25},\n",
       "  'position': {'lineno': 25,\n",
       "   'end_lineno': 26,\n",
       "   'col_offset': 4,\n",
       "   'end_col_offset': 12}}}"
      ]
     },
     "execution_count": 7,
     "metadata": {},
     "output_type": "execute_result"
    }
   ],
   "source": [
    "new_data = group_single_items_by_key_path(data=ast_node_dict_list, key_path=\"node.lineno\", key_type=Type[Union[int, str]])\n",
    "new_data"
   ]
  },
  {
   "cell_type": "markdown",
   "metadata": {},
   "source": [
    "---\n",
    "Wrap the key_type with `typing.Type`, otherwise, it won't be annotated properly.\n",
    "\n",
    "See the highlighted code by `Pylance`."
   ]
  },
  {
   "cell_type": "markdown",
   "metadata": {},
   "source": [
    "<!--StartFragment--><div style=\"color: #cccccc;background-color: #1f1f1f;font-family: Consolas, 'Courier New', monospace;font-weight: normal;font-size: 14px;line-height: 19px;white-space: pre;\"><div><span style=\"color: #4ec9b0;\">list</span><span style=\"color: #cccccc;\">(</span><span style=\"color: #9cdcfe;\">new_data</span><span style=\"color: #cccccc;\">.</span><span style=\"color: #dcdcaa;\">keys</span><span style=\"color: #cccccc;\">())[</span><span style=\"color: #b5cea8;\">0</span><span style=\"color: #cccccc;\">].</span><span style=\"color: #dcdcaa;\">splitlines</span></div><div><span style=\"color: #4ec9b0;\">list</span><span style=\"color: #cccccc;\">(</span><span style=\"color: #9cdcfe;\">new_data</span><span style=\"color: #cccccc;\">.</span><span style=\"color: #dcdcaa;\">keys</span><span style=\"color: #cccccc;\">())[</span><span style=\"color: #b5cea8;\">0</span><span style=\"color: #cccccc;\">].</span><span style=\"color: #9cdcfe;\">imag</span></div></div><!--EndFragment-->\n"
   ]
  },
  {
   "cell_type": "markdown",
   "metadata": {},
   "source": [
    "---\n",
    "Also see the improper example as well."
   ]
  },
  {
   "cell_type": "code",
   "execution_count": 8,
   "metadata": {},
   "outputs": [
    {
     "data": {
      "text/plain": [
       "{5: {'node': {'lineno': 5},\n",
       "  'position': {'lineno': 5,\n",
       "   'end_lineno': 6,\n",
       "   'col_offset': 0,\n",
       "   'end_col_offset': 15}},\n",
       " '9': {'node': {'lineno': '9'},\n",
       "  'position': {'lineno': 9,\n",
       "   'end_lineno': 10,\n",
       "   'col_offset': 0,\n",
       "   'end_col_offset': 41}},\n",
       " 25: {'node': {'lineno': 25},\n",
       "  'position': {'lineno': 25,\n",
       "   'end_lineno': 26,\n",
       "   'col_offset': 4,\n",
       "   'end_col_offset': 12}}}"
      ]
     },
     "execution_count": 8,
     "metadata": {},
     "output_type": "execute_result"
    }
   ],
   "source": [
    "improperly_highlighted = group_single_items_by_key_path(data=ast_node_dict_list, key_path=\"node.lineno\", key_type=Union[int, str])\n",
    "improperly_highlighted"
   ]
  },
  {
   "cell_type": "markdown",
   "metadata": {},
   "source": [
    "<!--StartFragment--><div style=\"color: #cccccc;background-color: #1f1f1f;font-family: Consolas, 'Courier New', monospace;font-weight: normal;font-size: 14px;line-height: 19px;white-space: pre;\"><div><span style=\"color: #4ec9b0;\">list</span><span style=\"color: #cccccc;\">(</span><span style=\"color: #9cdcfe;\">improperly_highlighted</span><span style=\"color: #cccccc;\">.</span><span style=\"color: #dcdcaa;\">keys</span><span style=\"color: #cccccc;\">())[</span><span style=\"color: #b5cea8;\">0</span><span style=\"color: #cccccc;\">].splitlines</span></div><div><span style=\"color: #4ec9b0;\">list</span><span style=\"color: #cccccc;\">(</span><span style=\"color: #9cdcfe;\">improperly_highlighted</span><span style=\"color: #cccccc;\">.</span><span style=\"color: #dcdcaa;\">keys</span><span style=\"color: #cccccc;\">())[</span><span style=\"color: #b5cea8;\">0</span><span style=\"color: #cccccc;\">].imag</span></div></div><!--EndFragment-->\n"
   ]
  },
  {
   "cell_type": "markdown",
   "metadata": {},
   "source": [
    "---\n",
    "The repeated value in the path will cause an error."
   ]
  },
  {
   "cell_type": "code",
   "execution_count": 9,
   "metadata": {},
   "outputs": [
    {
     "name": "stdout",
     "output_type": "stream",
     "text": [
      "Error:  Multiple items found for key 'function2'. Use group_by_key_path function instead.\n"
     ]
    }
   ],
   "source": [
    "complex_data = dict_list.complex_data\n",
    "\n",
    "try:\n",
    "    group_single_items_by_key_path(\n",
    "        data=complex_data,\n",
    "        key_path=\"node.name\",\n",
    "        key_type=Type[str]    \n",
    "    )\n",
    "except Exception as e:\n",
    "    print(\"Error: \", e)"
   ]
  },
  {
   "cell_type": "markdown",
   "metadata": {},
   "source": [
    "---\n",
    "If you still want to convert the data, use the `group_by_key_path` function as instructed."
   ]
  },
  {
   "cell_type": "code",
   "execution_count": 10,
   "metadata": {},
   "outputs": [
    {
     "data": {
      "text/plain": [
       "{'function1': [{'id': 1,\n",
       "   'node': {'name': 'function1', 'value': 10, 'type': 'regular'},\n",
       "   'metadata': Custom(meta1)}],\n",
       " 'function2': [{'id': 2,\n",
       "   'node': {'name': 'function2', 'value': '20', 'type': Custom(special)},\n",
       "   'metadata': 'some meta data'},\n",
       "  {'id': 5,\n",
       "   'node': {'name': 'function2',\n",
       "    'value': [1, '2', 3.0],\n",
       "    'type': ('tuple', 'type')},\n",
       "   'metadata': 42}],\n",
       " 'Custom(custom_function)': [{'id': '4',\n",
       "   'node': {'name': Custom(custom_function),\n",
       "    'value': Custom(custom_value),\n",
       "    'type': None},\n",
       "   'metadata': {'key': 'value'}}]}"
      ]
     },
     "execution_count": 10,
     "metadata": {},
     "output_type": "execute_result"
    }
   ],
   "source": [
    "new_data = group_by_key_path(\n",
    "    data=complex_data,\n",
    "    key_path=\"node.name\",\n",
    "    key_type=Type[Union[Custom, str]]    \n",
    ")\n",
    "\n",
    "hash_solved = {}\n",
    "for key, item in new_data.items():\n",
    "    hash_solved[str(key)] = item\n",
    "\n",
    "hash_solved"
   ]
  },
  {
   "cell_type": "markdown",
   "metadata": {},
   "source": [
    "---\n",
    "Note that, the path `\"node.name\"` includes `List` type values,\\\n",
    "and it will cause an error because `List` is noy allowed as a key of `Dict`.\n",
    "\n",
    "Therefore, you have to properly filter out improper types."
   ]
  },
  {
   "cell_type": "code",
   "execution_count": 11,
   "metadata": {},
   "outputs": [
    {
     "data": {
      "text/plain": [
       "{example_tools.example_data.dict_list.Custom, list, str}"
      ]
     },
     "execution_count": 11,
     "metadata": {},
     "output_type": "execute_result"
    }
   ],
   "source": [
    "paths = analyze_path_types(complex_data, \"node.name\")\n",
    "paths"
   ]
  },
  {
   "cell_type": "code",
   "execution_count": 12,
   "metadata": {},
   "outputs": [
    {
     "name": "stdout",
     "output_type": "stream",
     "text": [
      "Error:  unhashable type: 'list'\n"
     ]
    }
   ],
   "source": [
    "try:\n",
    "    group_by_key_path(\n",
    "        data=complex_data,\n",
    "        key_path=\"node.name\",\n",
    "        key_type=Type[Union[Custom, List, str]]    \n",
    "    )\n",
    "except Exception as e:\n",
    "    print(\"Error: \", e)"
   ]
  },
  {
   "cell_type": "markdown",
   "metadata": {},
   "source": [
    "## Minor Functions"
   ]
  },
  {
   "cell_type": "code",
   "execution_count": 13,
   "metadata": {},
   "outputs": [],
   "source": [
    "from crimson.advanced_dict.converter.dict_list_converter import (\n",
    "    get_nested_value,\n",
    "    create_type_converter,\n",
    ")\n"
   ]
  }
 ],
 "metadata": {
  "kernelspec": {
   "display_name": "advanced-dict",
   "language": "python",
   "name": "python3"
  },
  "language_info": {
   "codemirror_mode": {
    "name": "ipython",
    "version": 3
   },
   "file_extension": ".py",
   "mimetype": "text/x-python",
   "name": "python",
   "nbconvert_exporter": "python",
   "pygments_lexer": "ipython3",
   "version": "3.12.4"
  }
 },
 "nbformat": 4,
 "nbformat_minor": 2
}
